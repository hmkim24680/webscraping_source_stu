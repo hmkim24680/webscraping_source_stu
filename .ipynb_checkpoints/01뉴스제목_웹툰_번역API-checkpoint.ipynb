{
 "cells": [
  {
   "cell_type": "markdown",
   "id": "eb0bfa44",
   "metadata": {},
   "source": [
    "## 1. 뉴스제목 가져오기\n",
    "* user-agent 요청헤더를 반드시 설정해야 한다."
   ]
  },
  {
   "cell_type": "code",
   "execution_count": 1,
   "id": "f0d27781",
   "metadata": {},
   "outputs": [
    {
     "name": "stdout",
     "output_type": "stream",
     "text": [
      "Name: requests\r\n",
      "Version: 2.26.0\r\n",
      "Summary: Python HTTP for Humans.\r\n",
      "Home-page: https://requests.readthedocs.io\r\n",
      "Author: Kenneth Reitz\r\n",
      "Author-email: me@kennethreitz.org\r\n",
      "License: Apache 2.0\r\n",
      "Location: /Users/haemikim/opt/anaconda3/lib/python3.9/site-packages\r\n",
      "Requires: charset-normalizer, urllib3, certifi, idna\r\n",
      "Required-by: webdriver-manager, transformers, Sphinx, Korpora, jupyterlab-server, huggingface-hub, cookiecutter, conda, conda-repo-cli, conda-build, anaconda-project, anaconda-client\r\n"
     ]
    }
   ],
   "source": [
    "!pip show requests"
   ]
  },
  {
   "cell_type": "code",
   "execution_count": 2,
   "id": "bf80a429",
   "metadata": {},
   "outputs": [],
   "source": [
    "import requests\n",
    "import bs4\n",
    "from bs4 import BeautifulSoup"
   ]
  },
  {
   "cell_type": "code",
   "execution_count": 3,
   "id": "9788d6ac",
   "metadata": {},
   "outputs": [
    {
     "name": "stdout",
     "output_type": "stream",
     "text": [
      "request ver  2.26.0\n",
      "beautifulsoup  4.10.0\n"
     ]
    }
   ],
   "source": [
    "print('request ver ' , requests.__version__)\n",
    "print('beautifulsoup ', bs4.__version__)"
   ]
  },
  {
   "cell_type": "code",
   "execution_count": 4,
   "id": "94c12fd6",
   "metadata": {},
   "outputs": [
    {
     "name": "stdout",
     "output_type": "stream",
     "text": [
      "<class 'requests.models.Response'>\n",
      "200\n",
      "31\n",
      "\n",
      "\"글 하나에 1500원 결제\"…네이버, 새 먹거리 키운다\n",
      "\n",
      "나사·구글이 선택한 한국 아티스트… 미디어 아트로 기후 위기 알린다\n",
      "\n",
      "사이버보안 10만 인재 양성, 예산 20% 증액으로 교육 지원 확대\n",
      "\n",
      "'내부 폭로' 멈춘 카카오 임원…노조도 '손팻말 시위' 나섰다\n",
      "\n",
      "부영 이중근 회장, 카이스트 기숙사 리모델링에 200억 기부\n",
      "\n",
      "국제과학비즈니스벨트에 BRT 정류소 생긴다\n",
      "\n",
      "[단독]카카오 김정호 셀프징계 요청 \"100대0 원칙 어겼다\"\n",
      "\n",
      "LGU+, 광복절 캠페인으로 대한민국광고대상 금상…SKT 은상(종합)\n",
      "尹, 이르면 내일 개각…총선 출마자 빼고 관료·전문가 기용\n",
      "이준석 \"신당 '반윤연대' 안한다\"…송영길 \"尹 퇴진당\"에 반박\n",
      "윤 대통령, 정책실장·신임 수석에 임명장…배우자에게 꽃다발도\n",
      "美 “하마스의 이스라엘 기습 계획 사전 인지 못해”\n",
      "네타냐후 \"전쟁 계속\"…하마스도 로켓 공격\n",
      "금감원, '홍콩 ELS' 배상기준안 마련 검토…'불완전판매·적합성'이 관건\n",
      "4인 부회장 교체...최태원의 승부수\n",
      "한은 \"수출 회복세 지속…대중수출 대폭 개선은 힘들수도\"\n",
      "'론칭 D-3' 엔씨, TL 사전 다운로드 시작\n",
      "\"내년 보안 인력 사업 예산 20% 증가…특성화大 2곳 추가\"\n",
      "미리 보는 오늘\n",
      "송영길 20년지기 \"5000만원 수표, 은행서 바꿔 주머니에 넣어줬다\"\n",
      "\"꿈에 나와줘...다 들어줄게\" 20대 순직 소방관 추모 행렬\n",
      "인천시 지역 문화유산 활용 행사 인기…내년에 총 7개 사업 진행\n",
      "광고산업 은탑산업훈장에 홍성현 대홍기획 대표이사\n"
     ]
    }
   ],
   "source": [
    "# IT/과학 뉴스\n",
    "url = 'https://news.naver.com/main/main.naver'\n",
    "# 요청 파라미터\n",
    "req_param = {\n",
    "    'mode': 'LSD',\n",
    "    'mid': 'shm',\n",
    "    'sid1':'105'\n",
    "}\n",
    "# 요청 헤더 설정 : 브라우저 정보\n",
    "req_header = {\n",
    "    'user-agent': 'Mozilla/5.0 (Macintosh; Intel Mac OS X 10_15_7) AppleWebKit/537.36 (KHTML, like Gecko) Chrome/119.0.0.0 Safari/537.36'}\n",
    "res = requests.get(url, params=req_param, headers=req_header)\n",
    "print(type(res))\n",
    "print(res.status_code)\n",
    "if res.ok:\n",
    "    html = res.text\n",
    "    soup = BeautifulSoup(html, 'html.parser')\n",
    "    #print(soup)\n",
    "    '''\n",
    "    <div class=\"sh_text\"> div.sh_text\n",
    "        <a href=\"https://n.news.naver.com/mnews/article/\"> a[href*='n.news.naver.com/mnews/article']\n",
    "    '''\n",
    "    print(len(soup.select(\"a[href*='n.news.naver.com/mnews/article']\")))\n",
    "    a_tags = soup.select(\"a[href*='n.news.naver.com/mnews/article']\")\n",
    "    for a_tag in a_tags:\n",
    "        #print(a_tag)\n",
    "        title = a_tag.text.strip()\n",
    "        print(title)"
   ]
  },
  {
   "cell_type": "code",
   "execution_count": 8,
   "id": "78d298f2",
   "metadata": {},
   "outputs": [],
   "source": [
    "import requests\n",
    "import bs4\n",
    "from bs4 import BeautifulSoup\n",
    "\n",
    "def print_news_title(sid, section):\n",
    "    print(f'===> {section} 뉴스 <====')\n",
    "    url = 'https://news.naver.com/main/main.naver'\n",
    "    # 요청 파라미터\n",
    "    req_param = {\n",
    "        'mode':'LSD',\n",
    "        'mid':'shm',\n",
    "        'sid1': sid\n",
    "    }\n",
    "    # 요청 헤더 설정 : 브라우저 정보\n",
    "    req_header = {\n",
    "        'user-agent': 'Mozilla/5.0 (Macintosh; Intel Mac OS X 10_15_7) AppleWebKit/537.36 (KHTML, like Gecko) Chrome/119.0.0.0 Safari/537.36'\n",
    "    }\n",
    "    res = requests.get(url, params=req_param, headers=req_header)\n",
    "    print(type(res))\n",
    "    print(res.status_code)\n",
    "    if res.ok:\n",
    "        html = res.text\n",
    "        soup = BeautifulSoup(html, 'html.parser')\n",
    "\n",
    "        '''\n",
    "        <div class=\"sh_text\"> div.sh_text\n",
    "            <a href=\"https://n.news.naver.com/mnews/article/\"> a[href*='n.news.naver.com/mnews/article']\n",
    "        '''\n",
    "        print(len(soup.select(\"a[href*='n.news.naver.com/mnews/article']\")))\n",
    "        a_tags = soup.select(\"a[href*='n.news.naver.com/mnews/article']\")\n",
    "        for a_tag in a_tags:\n",
    "            title = a_tag.text.strip()\n",
    "            href = a_tag['href']\n",
    "            print(title, href)"
   ]
  },
  {
   "cell_type": "code",
   "execution_count": 20,
   "id": "8e635165",
   "metadata": {},
   "outputs": [
    {
     "name": "stdout",
     "output_type": "stream",
     "text": [
      "===> 세계 뉴스 <====\n",
      "<class 'requests.models.Response'>\n",
      "200\n",
      "34\n",
      " https://n.news.naver.com/mnews/article/001/0014367763?sid=101\n",
      "홍콩 H지수 ELS, 증시 약세에 발행 급감…'활황' 日닛케이 ELS↑ https://n.news.naver.com/mnews/article/001/0014367763?sid=101\n",
      " https://n.news.naver.com/mnews/article/421/0007213335?sid=101\n",
      "추경호 \"韓-英 정부간 협의체 즉시 개설…원전산업대화체 가동\" https://n.news.naver.com/mnews/article/421/0007213335?sid=101\n",
      " https://n.news.naver.com/mnews/article/032/0003265186?sid=101\n",
      "한전 발주 고객센터 시스템 입찰담합…과징금 2억5300만원 https://n.news.naver.com/mnews/article/032/0003265186?sid=101\n",
      "비트코인 상승세…20개월 만에 4만 달러 돌파 기대 https://n.news.naver.com/mnews/article/448/0000438611?sid=101\n",
      " https://n.news.naver.com/mnews/article/092/0002313639?sid=101\n",
      "기재부, 넥슨지주 NXC 지분 29% 공개매각 https://n.news.naver.com/mnews/article/092/0002313639?sid=101\n",
      " https://n.news.naver.com/mnews/article/018/0005631479?sid=101\n",
      "제주항공, 화물2호기 도입...사업다각화 속도 https://n.news.naver.com/mnews/article/018/0005631479?sid=101\n",
      " https://n.news.naver.com/mnews/article/119/0002775637?sid=101\n",
      "‘폴란드 잭팟’ 한번 더... 한화에어로스페이스, K9 2차 수출계약 https://n.news.naver.com/mnews/article/119/0002775637?sid=101\n",
      " https://n.news.naver.com/mnews/article/018/0005631424?sid=101\n",
      "강신숙 Sh수협은행장 “시중은행에 결코 뒤지지 않는 역량 선보일 것” https://n.news.naver.com/mnews/article/018/0005631424?sid=101\n",
      "동영상기사 https://n.news.naver.com/mnews/article/052/0001968137?sid=101\n",
      "中 요소 통관 지연...\"중국 내부 요소 수요 긴장 탓\" https://n.news.naver.com/mnews/article/052/0001968137?sid=101\n",
      " https://n.news.naver.com/mnews/article/016/0002233900?sid=101\n",
      "노동당국, 알바생 최저임금 안 준 편의점주 잡는다 https://n.news.naver.com/mnews/article/016/0002233900?sid=101\n",
      "“사기꾼 말 듣고 검사 좌표찍다니”… 민주당 맹비난한 윤재옥[人사이더] https://n.news.naver.com/mnews/article/029/0002840926?sid=100\n",
      "민주, 다음 주부터 인재영입…\"1호는 당 밖 인사\" https://n.news.naver.com/mnews/article/011/0004269697?sid=100\n",
      "홍익표 “중대재해법 2년 유예? 당정, 구체적인 안 갖고 와라” https://n.news.naver.com/mnews/article/028/0002667240?sid=100\n",
      "“하마스 완전 제거”…“전면휴전 없인 인질석방 없어” https://n.news.naver.com/mnews/article/056/0011614323?sid=104\n",
      "필리핀 민다나오섬 7.6 강진‥\"파괴적인 쓰나미 예상\" https://n.news.naver.com/mnews/article/214/0001315914?sid=104\n",
      "정부, 中 요소 통관 중단에 긴급회의…\"국내 3개월분 재고 확보\" https://n.news.naver.com/mnews/article/018/0005631244?sid=101\n",
      "우리금융, 사회복지공동모금회에 100억 원 성금 기부 https://n.news.naver.com/mnews/article/082/0001244816?sid=101\n",
      "비트코인 20개월 만에 4만 달러 돌파 https://n.news.naver.com/mnews/article/374/0000361222?sid=101\n",
      "대전 과학비즈니스벨트에 BRT·광역도로…공동 어린이집도 https://n.news.naver.com/mnews/article/001/0014369780?sid=105\n",
      "카카오 김정호 \"경영 의혹 당사자, 프레임 씌워 날 날리려 해\" https://n.news.naver.com/mnews/article/018/0005631557?sid=105\n",
      "대전서 70대 남성에게 흉기휘두른 20대, 조현병 앓아 https://n.news.naver.com/mnews/article/081/0003413686?sid=102\n",
      "양천구, 내년 노인일자리 참여자 3천300명 모집 https://n.news.naver.com/mnews/article/001/0014369200?sid=102\n",
      "경찰, '전청조 투자사기 가담' 의혹 남현희 3번째 소환조사 https://n.news.naver.com/mnews/article/052/0001968130?sid=102\n",
      "첼리스트 박상혁, '크시슈토프 펜데레츠키 콩쿠르' 2위 https://n.news.naver.com/mnews/article/277/0005349611?sid=103\n",
      "볼보 EX30, 美서 ‘2023 최고의 혁신 50가지’ 선정..전기차 경쟁력↑ https://n.news.naver.com/mnews/article/018/0005631513?sid=103\n"
     ]
    }
   ],
   "source": [
    "section_dict = {100:'정치',101:'경제',102:'사회',103:'생활/문화',104:'세계',105:'IT/과학'}\n",
    "print_news_title(101, section_dict[104])"
   ]
  },
  {
   "cell_type": "markdown",
   "id": "323196dc",
   "metadata": {},
   "source": [
    "### 2. Image 다운로드\n",
    "* referer 요청 헤더를 반드시 설정해야 한다."
   ]
  },
  {
   "cell_type": "code",
   "execution_count": 6,
   "id": "e39dce7a",
   "metadata": {},
   "outputs": [],
   "source": [
    "import requests\n",
    "import os"
   ]
  },
  {
   "cell_type": "code",
   "execution_count": 9,
   "id": "c72d6cb1",
   "metadata": {},
   "outputs": [
    {
     "name": "stdout",
     "output_type": "stream",
     "text": [
      "20231023154322_6989bf288cb5217022d3aeaaaa5d6d33_IMAG01_1.jpg\n",
      " writing to 20231023154322_6989bf288cb5217022d3aeaaaa5d6d33_IMAG01_1.jpg(177,592 bytes)\n",
      "20231023154322_6989bf288cb5217022d3aeaaaa5d6d33_IMAG01_2.jpg\n",
      " writing to 20231023154322_6989bf288cb5217022d3aeaaaa5d6d33_IMAG01_2.jpg(145,492 bytes)\n",
      "20231023154322_6989bf288cb5217022d3aeaaaa5d6d33_IMAG01_3.jpg\n",
      " writing to 20231023154322_6989bf288cb5217022d3aeaaaa5d6d33_IMAG01_3.jpg(182,594 bytes)\n"
     ]
    }
   ],
   "source": [
    "req_header = {\n",
    "    'referer':'https://comic.naver.com/webtoon/detail?titleId=721433&no=229&week=tue'\n",
    "}\n",
    "# referer이 있어야 image 파일 출처를 알 수 있음\n",
    "img_urls = [\n",
    "    'https://image-comic.pstatic.net/webtoon/721433/229/20231023154322_6989bf288cb5217022d3aeaaaa5d6d33_IMAG01_1.jpg',\n",
    "    'https://image-comic.pstatic.net/webtoon/721433/229/20231023154322_6989bf288cb5217022d3aeaaaa5d6d33_IMAG01_2.jpg',\n",
    "    'https://image-comic.pstatic.net/webtoon/721433/229/20231023154322_6989bf288cb5217022d3aeaaaa5d6d33_IMAG01_3.jpg'\n",
    "]\n",
    "for img_url in img_urls:\n",
    "    res = requests.get(img_url, headers=req_header)\n",
    "    if res.ok: #200\n",
    "        # content 속성은 binary data\n",
    "        img_data = res.content\n",
    "        # url에서 file name을 추출하기\n",
    "        file_name = os.path.basename(img_url)\n",
    "        print(file_name)\n",
    "        # binary data를 file로 저장하기\n",
    "        with open(file_name, 'wb') as file:\n",
    "            print(f' writing to {file_name}({len(img_data):,} bytes)')\n",
    "            file.write(img_data)"
   ]
  },
  {
   "cell_type": "markdown",
   "id": "e8b00a04",
   "metadata": {},
   "source": [
    "#### 현재 요청된 페이지의 image 모두 다운로드 해보기"
   ]
  },
  {
   "cell_type": "code",
   "execution_count": 27,
   "id": "b30f7bf5",
   "metadata": {
    "scrolled": true
   },
   "outputs": [
    {
     "name": "stdout",
     "output_type": "stream",
     "text": [
      "52\n",
      "52\n",
      "img/20231023154322_6989bf288cb5217022d3aeaaaa5d6d33_IMAG01_1.jpg\n",
      "img/20231023154322_6989bf288cb5217022d3aeaaaa5d6d33_IMAG01_2.jpg\n",
      "img/20231023154322_6989bf288cb5217022d3aeaaaa5d6d33_IMAG01_3.jpg\n",
      "img/20231023154322_6989bf288cb5217022d3aeaaaa5d6d33_IMAG01_4.jpg\n",
      "img/20231023154322_6989bf288cb5217022d3aeaaaa5d6d33_IMAG01_5.jpg\n",
      "img/20231023154322_6989bf288cb5217022d3aeaaaa5d6d33_IMAG01_6.jpg\n",
      "img/20231023154322_6989bf288cb5217022d3aeaaaa5d6d33_IMAG01_7.jpg\n",
      "img/20231023154322_6989bf288cb5217022d3aeaaaa5d6d33_IMAG01_8.jpg\n",
      "img/20231023154322_6989bf288cb5217022d3aeaaaa5d6d33_IMAG01_9.jpg\n",
      "img/20231023154322_6989bf288cb5217022d3aeaaaa5d6d33_IMAG01_10.jpg\n",
      "img/20231023154322_6989bf288cb5217022d3aeaaaa5d6d33_IMAG01_11.jpg\n",
      "img/20231023154322_6989bf288cb5217022d3aeaaaa5d6d33_IMAG01_12.jpg\n",
      "img/20231023154322_6989bf288cb5217022d3aeaaaa5d6d33_IMAG01_13.jpg\n",
      "img/20231023154322_6989bf288cb5217022d3aeaaaa5d6d33_IMAG01_14.jpg\n",
      "img/20231023154322_6989bf288cb5217022d3aeaaaa5d6d33_IMAG01_15.jpg\n",
      "img/20231023154322_6989bf288cb5217022d3aeaaaa5d6d33_IMAG01_16.jpg\n",
      "img/20231023154322_6989bf288cb5217022d3aeaaaa5d6d33_IMAG01_17.jpg\n",
      "img/20231023154322_6989bf288cb5217022d3aeaaaa5d6d33_IMAG01_18.jpg\n",
      "img/20231023154322_6989bf288cb5217022d3aeaaaa5d6d33_IMAG01_19.jpg\n",
      "img/20231023154322_6989bf288cb5217022d3aeaaaa5d6d33_IMAG01_20.jpg\n",
      "img/20231023154322_6989bf288cb5217022d3aeaaaa5d6d33_IMAG01_21.jpg\n",
      "img/20231023154322_6989bf288cb5217022d3aeaaaa5d6d33_IMAG01_22.jpg\n",
      "img/20231023154322_6989bf288cb5217022d3aeaaaa5d6d33_IMAG01_23.jpg\n",
      "img/20231023154322_6989bf288cb5217022d3aeaaaa5d6d33_IMAG01_24.jpg\n",
      "img/20231023154322_6989bf288cb5217022d3aeaaaa5d6d33_IMAG01_25.jpg\n",
      "img/20231023154322_6989bf288cb5217022d3aeaaaa5d6d33_IMAG01_26.jpg\n",
      "img/20231023154322_6989bf288cb5217022d3aeaaaa5d6d33_IMAG01_27.jpg\n",
      "img/20231023154322_6989bf288cb5217022d3aeaaaa5d6d33_IMAG01_28.jpg\n",
      "img/20231023154322_6989bf288cb5217022d3aeaaaa5d6d33_IMAG01_29.jpg\n",
      "img/20231023154322_6989bf288cb5217022d3aeaaaa5d6d33_IMAG01_30.jpg\n",
      "img/20231023154322_6989bf288cb5217022d3aeaaaa5d6d33_IMAG01_31.jpg\n",
      "img/20231023154322_6989bf288cb5217022d3aeaaaa5d6d33_IMAG01_32.jpg\n",
      "img/20231023154322_6989bf288cb5217022d3aeaaaa5d6d33_IMAG01_33.jpg\n",
      "img/20231023154322_6989bf288cb5217022d3aeaaaa5d6d33_IMAG01_34.jpg\n",
      "img/20231023154322_6989bf288cb5217022d3aeaaaa5d6d33_IMAG01_35.jpg\n",
      "img/20231023154322_6989bf288cb5217022d3aeaaaa5d6d33_IMAG01_36.jpg\n",
      "img/20231023154322_6989bf288cb5217022d3aeaaaa5d6d33_IMAG01_37.jpg\n",
      "img/20231023154322_6989bf288cb5217022d3aeaaaa5d6d33_IMAG01_38.jpg\n",
      "img/20231023154322_6989bf288cb5217022d3aeaaaa5d6d33_IMAG01_39.jpg\n",
      "img/20231023154322_6989bf288cb5217022d3aeaaaa5d6d33_IMAG01_40.jpg\n",
      "img/20231023154322_6989bf288cb5217022d3aeaaaa5d6d33_IMAG01_41.jpg\n",
      "img/20231023154322_6989bf288cb5217022d3aeaaaa5d6d33_IMAG01_42.jpg\n",
      "img/20231023154322_6989bf288cb5217022d3aeaaaa5d6d33_IMAG01_43.jpg\n",
      "img/20231023154322_6989bf288cb5217022d3aeaaaa5d6d33_IMAG01_44.jpg\n",
      "img/20231023154322_6989bf288cb5217022d3aeaaaa5d6d33_IMAG01_45.jpg\n",
      "img/20231023154322_6989bf288cb5217022d3aeaaaa5d6d33_IMAG01_46.jpg\n",
      "img/20231023154322_6989bf288cb5217022d3aeaaaa5d6d33_IMAG01_47.jpg\n",
      "img/20231023154322_6989bf288cb5217022d3aeaaaa5d6d33_IMAG01_48.jpg\n",
      "img/20231023154322_6989bf288cb5217022d3aeaaaa5d6d33_IMAG01_49.jpg\n",
      "img/20231023154322_6989bf288cb5217022d3aeaaaa5d6d33_IMAG01_50.jpg\n",
      "img/20231023154322_6989bf288cb5217022d3aeaaaa5d6d33_IMAG01_51.jpg\n",
      "img/20231023154322_6989bf288cb5217022d3aeaaaa5d6d33_IMAG01_52.jpg\n"
     ]
    }
   ],
   "source": [
    "import requests\n",
    "import os\n",
    "\n",
    "url = 'https://comic.naver.com/webtoon/detail?titleId=721433&no=229&week=tue'\n",
    "req_header = {\n",
    "    'referer' : url\n",
    "}\n",
    "res = requests.get(url)\n",
    "if res.ok:\n",
    "    soup = BeautifulSoup(res.text, 'html.parser')\n",
    "    print(len(soup.select(\"img[src*='IMAG01']\")))\n",
    "    print(len(soup.select(\"div#sectionContWide img[src$='.jpg']\")))\n",
    "    img_tags = soup.select(\"img[src*='IMAG01']\")\n",
    "    # print(type(img_tags)) <class 'bs4.element.ResultSet'>\n",
    "    img_url_list = []\n",
    "    for img_tag in img_tags:\n",
    "        img_url_list.append(img_tag['src'])\n",
    "    #print(img_url_list)\n",
    "\n",
    "    #img 폴더가 없다면 생성\n",
    "    if not os.path.isdir('img'):\n",
    "        os.mkdir('img')\n",
    "        \n",
    "    for img_url in img_url_list:\n",
    "        res = requests.get(img_url, headers=req_header)\n",
    "        if res.ok:\n",
    "            img_data = res.content\n",
    "            file_name = os.path.basename(img_url)\n",
    "            dir_name = os.path.join('img',file_name)\n",
    "            print(dir_name)\n",
    "            with open(dir_name, 'wb') as file:\n",
    "                file.write(img_data)\n",
    "        else:\n",
    "            print(f'Binary Data 가져올 때 Error 발생 에러코드 = {res.status_code}')            \n",
    "else:\n",
    "    print(f'Error 발생 에러코드 = {res.status_code}')"
   ]
  },
  {
   "cell_type": "markdown",
   "id": "d370fe87",
   "metadata": {},
   "source": [
    "### image 다운로드 함수 선언하기\n",
    "* os.mkdir vs ok.makedirs 함수 비교\n",
    "- os.mkdir은 폴더를 1개만 생성이 가능\n",
    "- os.makedirs 'a/b/c' 하위 디렉토리를 여러개 생성 가능\u001bㅠ"
   ]
  },
  {
   "cell_type": "code",
   "execution_count": 33,
   "id": "06e9645e",
   "metadata": {},
   "outputs": [],
   "source": [
    "def download_image(title,url):\n",
    "    import requests\n",
    "    from bs4 import BeautifulSoup\n",
    "    import os\n",
    "    \n",
    "    req_header = {\n",
    "        'referer': url\n",
    "    }\n",
    "    \n",
    "    res = requests.get(url)\n",
    "    print(res.ok)\n",
    "    if res.ok:\n",
    "        soup = BeautifulSoup(res.text, 'html.parser')\n",
    "        \n",
    "        imgurl_list = []\n",
    "        print(len(soup.select('img[src*=\"IMAG01\"]')))\n",
    "        for img_tag in soup.select('img[src*=\"IMAG01\"]'):\n",
    "            imgurl_list.append(img_tag['src'])\n",
    "            #print(img_tag)\n",
    "                \n",
    "        #image를 저장할 디렉토리 생성\n",
    "        \n",
    "        #dir_name = 'img/' + title\n",
    "        dir_name = os.path.join('img',title)\n",
    "        print(dir_name)\n",
    "        if not os.path.isdir(dir_name):\n",
    "            os.makedirs(dir_name)\n",
    "        \n",
    "        #enumerate → index, 원소\n",
    "        for idx,img_url in enumerate(imgurl_list[0:2],1):\n",
    "            print(idx, img_url)\n",
    "            res = requests.get(img_url,headers=req_header)\n",
    "            #print(res.status_code)\n",
    "            if res.ok:\n",
    "                img_data = res.content\n",
    "                #print(len(img_data))\n",
    "                file_name = os.path.basename(img_url)\n",
    "                #print(file_name)\n",
    "                save_name = os.path.join(dir_name, file_name) #dir_name + '/' + file_name\n",
    "                with open(save_name,'wb') as file:\n",
    "                    print(f'{file_name} (파일크기 : {len(img_data)}))')\n",
    "                    file.write(img_data)"
   ]
  },
  {
   "cell_type": "code",
   "execution_count": 37,
   "id": "04a095ce",
   "metadata": {},
   "outputs": [
    {
     "name": "stdout",
     "output_type": "stream",
     "text": [
      "True\n",
      "0\n",
      "img/독립일기\n"
     ]
    }
   ],
   "source": [
    "download_image('독립일기','https://comic.naver.com/webtoon/detail?titleId=748105&no=2&week=finish')"
   ]
  },
  {
   "cell_type": "markdown",
   "id": "2ac9f5f9",
   "metadata": {},
   "source": [
    "### 파일 업로드 하기\n",
    "* http://httpbin.org/post 업로드 요청을 할 수 있는 url"
   ]
  },
  {
   "cell_type": "code",
   "execution_count": null,
   "id": "37cebf14",
   "metadata": {},
   "outputs": [],
   "source": []
  },
  {
   "cell_type": "code",
   "execution_count": null,
   "id": "04da4790",
   "metadata": {},
   "outputs": [],
   "source": []
  },
  {
   "cell_type": "markdown",
   "id": "7ad65f12",
   "metadata": {},
   "source": [
    "### 번역 Open API 이용하기\n",
    "* urllib 를 사용한 예제"
   ]
  },
  {
   "cell_type": "code",
   "execution_count": 77,
   "id": "abbb0ebf",
   "metadata": {},
   "outputs": [
    {
     "name": "stdout",
     "output_type": "stream",
     "text": [
      "{\"message\":{\"result\":{\"srcLangType\":\"en\",\"tarLangType\":\"ko\",\"translatedText\":\"어제 나의 모든 고민은 너무 멀리 있는 것 같았다.\",\"engineType\":\"N2MT\",\"pivot\":null,\"dict\":null,\"tarDict\":null},\"@type\":\"response\",\"@service\":\"naverservice.nmt.proxy\",\"@version\":\"1.0.0\"}}\n"
     ]
    }
   ],
   "source": [
    "# ZAZjlfXS4P5FW5DtE0wg\n",
    "# RNbe1ikysg\n",
    "import os\n",
    "import sys\n",
    "import urllib.request\n",
    "\n",
    "client_id = \"ZAZjlfXS4P5FW5DtE0wg\" # 개발자센터에서 발급받은 Client ID 값\n",
    "client_secret = \"RNbe1ikysg\" # 개발자센터에서 발급받은 Client Secret 값\n",
    "encText = urllib.parse.quote(\"Yesterday all my troubles seemed so far away\")\n",
    "data = \"source=en&target=ko&text=\" + encText\n",
    "url = \"https://openapi.naver.com/v1/papago/n2mt\"\n",
    "\n",
    "request = urllib.request.Request(url)\n",
    "request.add_header(\"X-Naver-Client-Id\",client_id)\n",
    "request.add_header(\"X-Naver-Client-Secret\",client_secret)\n",
    "\n",
    "response = urllib.request.urlopen(request, data=data.encode(\"utf-8\"))\n",
    "rescode = response.getcode()\n",
    "if(rescode==200):\n",
    "    response_body = response.read()\n",
    "    print(response_body.decode('utf-8'))\n",
    "else:\n",
    "    print(\"Error Code:\" + rescode)\n"
   ]
  },
  {
   "cell_type": "markdown",
   "id": "b7d984a6",
   "metadata": {},
   "source": [
    "* requests를 사용한 코드로 변경하기\n",
    "* [requests docs](https://requests.readthedocs.io/en/latest/user/quickstart/)"
   ]
  },
  {
   "cell_type": "code",
   "execution_count": null,
   "id": "727b427b",
   "metadata": {},
   "outputs": [],
   "source": []
  }
 ],
 "metadata": {
  "kernelspec": {
   "display_name": "Python 3 (ipykernel)",
   "language": "python",
   "name": "python3"
  },
  "language_info": {
   "codemirror_mode": {
    "name": "ipython",
    "version": 3
   },
   "file_extension": ".py",
   "mimetype": "text/x-python",
   "name": "python",
   "nbconvert_exporter": "python",
   "pygments_lexer": "ipython3",
   "version": "3.9.7"
  }
 },
 "nbformat": 4,
 "nbformat_minor": 5
}
