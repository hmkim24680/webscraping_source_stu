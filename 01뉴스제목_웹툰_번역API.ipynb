{
 "cells": [
  {
   "cell_type": "markdown",
   "id": "eb0bfa44",
   "metadata": {},
   "source": [
    "## 1. 뉴스제목 가져오기\n",
    "* user-agent 요청헤더를 반드시 설정해야 한다."
   ]
  },
  {
   "cell_type": "code",
   "execution_count": 4,
   "id": "f0d27781",
   "metadata": {},
   "outputs": [
    {
     "name": "stdout",
     "output_type": "stream",
     "text": [
      "Name: requests\r\n",
      "Version: 2.26.0\r\n",
      "Summary: Python HTTP for Humans.\r\n",
      "Home-page: https://requests.readthedocs.io\r\n",
      "Author: Kenneth Reitz\r\n",
      "Author-email: me@kennethreitz.org\r\n",
      "License: Apache 2.0\r\n",
      "Location: /Users/haemikim/opt/anaconda3/lib/python3.9/site-packages\r\n",
      "Requires: certifi, idna, urllib3, charset-normalizer\r\n",
      "Required-by: webdriver-manager, transformers, Sphinx, Korpora, jupyterlab-server, huggingface-hub, cookiecutter, conda, conda-repo-cli, conda-build, anaconda-project, anaconda-client\r\n"
     ]
    }
   ],
   "source": [
    "!pip show requests"
   ]
  },
  {
   "cell_type": "code",
   "execution_count": 5,
   "id": "bf80a429",
   "metadata": {},
   "outputs": [],
   "source": [
    "import requests\n",
    "import bs4\n",
    "from bs4 import BeautifulSoup"
   ]
  },
  {
   "cell_type": "code",
   "execution_count": 6,
   "id": "9788d6ac",
   "metadata": {},
   "outputs": [
    {
     "name": "stdout",
     "output_type": "stream",
     "text": [
      "request ver  2.26.0\n",
      "beautifulsoup  4.10.0\n"
     ]
    }
   ],
   "source": [
    "print('request ver ' , requests.__version__)\n",
    "print('beautifulsoup ', bs4.__version__)"
   ]
  },
  {
   "cell_type": "code",
   "execution_count": 7,
   "id": "94c12fd6",
   "metadata": {},
   "outputs": [
    {
     "name": "stdout",
     "output_type": "stream",
     "text": [
      "<class 'requests.models.Response'>\n",
      "200\n",
      "31\n",
      "\n",
      "LG유플러스, ‘2년 연속’ 대한민국광고대상 금상 수상\n",
      "\n",
      "\"글 하나에 1500원 결제\"…네이버, 새 먹거리 키운다\n",
      "\n",
      "사이버보안 10만 인재 양성, 예산 20% 증액으로 교육 지원 확대\n",
      "\n",
      "카카오 노조 \"5년간 한 번도 김범수 못 만나\"…시위 개시(종합)\n",
      "\n",
      "기초연구자 모이도록 …대전 과학벨트에 \"교통망 확충, 학교 설립\"\n",
      "\n",
      "'론칭 D-3' 엔씨, TL 사전 다운로드 시작\n",
      "\n",
      "'카카오 폭로' 김정호 \"셀프징계 요청했지만…문제 발본색원 할 것\"\n",
      "\n",
      "납 제거한 고효율 페로브스카이트 태양전지 기술 개발\n",
      "인요한 혁신위 사실상 멈춰섰다…\"지도부 반응 없어, 조기해체 거론\"\n",
      "이재명, 연탄 나눔 봉사...\"에너지 취약계층 고통 최소화 노력\"\n",
      "대구 군부대 이전 당정협 열려…주호영 \"조속한 MOU 체결 이뤄져야\"\n",
      "네타냐후 \"전쟁 계속\"…하마스도 로켓 공격\n",
      "이스라엘 전투기 공습에…세계적 물리학자, 가족과 함께 숨져\n",
      "韓, 중국 요소 통관 중단에 \"즉각적인 조치해달라\"...`공급망 핫라인` 활성화 합의\n",
      "외교부, 중국 요소 통관지연에 “협의 지속…공급망 다각화 지원 논의”\n",
      "경제6단체 \"대통령 거부권 행사 노란봉투법 폐기해야\"\n",
      "'내부 폭로' 멈춘 카카오 임원…노조도 '손팻말 시위' 나섰다\n",
      "LG유플러스, ‘2년 연속’ 대한민국광고대상 금상 수상\n",
      "노동장관, 인천남동공단 방문…중대재해 감축 로드맵 이행 점검\n",
      "“의사 신분 이용해 속여” 여에스더, 전직 식약처 직원에 ‘허위 광고’ 고발당해\n",
      "전남도, 노인 일자리 대폭 늘려\n",
      "“겨울철 손쓸 수 없는 이 질환”  부작용없는 먹는 치료제 나온다\n",
      "추위 풀려 내일 더 온화…동쪽 대기 건조[날씨]\n"
     ]
    }
   ],
   "source": [
    "# IT/과학 뉴스\n",
    "url = 'https://news.naver.com/main/main.naver'\n",
    "# 요청 파라미터\n",
    "req_param = {\n",
    "    'mode': 'LSD',\n",
    "    'mid': 'shm',\n",
    "    'sid1':'105'\n",
    "}\n",
    "# 요청 헤더 설정 : 브라우저 정보\n",
    "req_header = {\n",
    "    'user-agent': 'Mozilla/5.0 (Macintosh; Intel Mac OS X 10_15_7) AppleWebKit/537.36 (KHTML, like Gecko) Chrome/119.0.0.0 Safari/537.36'}\n",
    "res = requests.get(url, params=req_param, headers=req_header)\n",
    "print(type(res))\n",
    "print(res.status_code)\n",
    "if res.ok:\n",
    "    html = res.text\n",
    "    soup = BeautifulSoup(html, 'html.parser')\n",
    "    #print(soup)\n",
    "    '''\n",
    "    <div class=\"sh_text\"> div.sh_text\n",
    "        <a href=\"https://n.news.naver.com/mnews/article/\"> a[href*='n.news.naver.com/mnews/article']\n",
    "    '''\n",
    "    print(len(soup.select(\"a[href*='n.news.naver.com/mnews/article']\")))\n",
    "    a_tags = soup.select(\"a[href*='n.news.naver.com/mnews/article']\")\n",
    "    for a_tag in a_tags:\n",
    "        #print(a_tag)\n",
    "        title = a_tag.text.strip()\n",
    "        print(title)"
   ]
  },
  {
   "cell_type": "code",
   "execution_count": 8,
   "id": "78d298f2",
   "metadata": {},
   "outputs": [],
   "source": [
    "import requests\n",
    "import bs4\n",
    "from bs4 import BeautifulSoup\n",
    "\n",
    "def print_news_title(sid, section):\n",
    "    print(f'===> {section} 뉴스 <====')\n",
    "    url = 'https://news.naver.com/main/main.naver'\n",
    "    # 요청 파라미터\n",
    "    req_param = {\n",
    "        'mode':'LSD',\n",
    "        'mid':'shm',\n",
    "        'sid1': sid\n",
    "    }\n",
    "    # 요청 헤더 설정 : 브라우저 정보\n",
    "    req_header = {\n",
    "        'user-agent': 'Mozilla/5.0 (Macintosh; Intel Mac OS X 10_15_7) AppleWebKit/537.36 (KHTML, like Gecko) Chrome/119.0.0.0 Safari/537.36'\n",
    "    }\n",
    "    res = requests.get(url, params=req_param, headers=req_header)\n",
    "    print(type(res))\n",
    "    print(res.status_code)\n",
    "    if res.ok:\n",
    "        html = res.text\n",
    "        soup = BeautifulSoup(html, 'html.parser')\n",
    "\n",
    "        '''\n",
    "        <div class=\"sh_text\"> div.sh_text\n",
    "            <a href=\"https://n.news.naver.com/mnews/article/\"> a[href*='n.news.naver.com/mnews/article']\n",
    "        '''\n",
    "        print(len(soup.select(\"a[href*='n.news.naver.com/mnews/article']\")))\n",
    "        a_tags = soup.select(\"a[href*='n.news.naver.com/mnews/article']\")\n",
    "        for a_tag in a_tags:\n",
    "            title = a_tag.text.strip()\n",
    "            href = a_tag['href']\n",
    "            print(title, href)"
   ]
  },
  {
   "cell_type": "code",
   "execution_count": 9,
   "id": "8e635165",
   "metadata": {},
   "outputs": [
    {
     "name": "stdout",
     "output_type": "stream",
     "text": [
      "===> 세계 뉴스 <====\n",
      "<class 'requests.models.Response'>\n",
      "200\n",
      "35\n",
      " https://n.news.naver.com/mnews/article/014/0005109810?sid=101\n",
      "수협銀, 수협재단에 어촌복지기금 3억원 전달 https://n.news.naver.com/mnews/article/014/0005109810?sid=101\n",
      " https://n.news.naver.com/mnews/article/009/0005224839?sid=101\n",
      "[속보]신임 국토부 장관 후보에 박상우 전 LH사장 https://n.news.naver.com/mnews/article/009/0005224839?sid=101\n",
      " https://n.news.naver.com/mnews/article/469/0000773514?sid=101\n",
      "올해 한 달 남았는데...500대 기업 절반만 \"내년 투자계획 세웠다\" https://n.news.naver.com/mnews/article/469/0000773514?sid=101\n",
      "동영상기사 https://n.news.naver.com/mnews/article/374/0000361278?sid=101\n",
      "SK, 수뇌부 물갈이?…부회장 교체설 '솔솔' https://n.news.naver.com/mnews/article/374/0000361278?sid=101\n",
      " https://n.news.naver.com/mnews/article/030/0003162646?sid=101\n",
      "온라인쇼핑 거래액 사상 첫 月20조원 돌파…고물가의 그늘 https://n.news.naver.com/mnews/article/030/0003162646?sid=101\n",
      " https://n.news.naver.com/mnews/article/055/0001111312?sid=101\n",
      "중국 비료업계 \"12월 요소 수출 중단…내년 1분기까지 제한 가능성\" https://n.news.naver.com/mnews/article/055/0001111312?sid=101\n",
      " https://n.news.naver.com/mnews/article/014/0005109773?sid=101\n",
      "한화에어로스페이스 'K9자주포 패키지' 중동·아프리카 시장 공략 https://n.news.naver.com/mnews/article/014/0005109773?sid=101\n",
      " https://n.news.naver.com/mnews/article/011/0004269831?sid=101\n",
      "경제계 \"노란봉투법, 유례 없는 악법…폐기 촉구\" https://n.news.naver.com/mnews/article/011/0004269831?sid=101\n",
      " https://n.news.naver.com/mnews/article/003/0012247129?sid=101\n",
      "신임 경제부총리에 최상목…거시·금융 두루 거친 정통 관료[프로필] https://n.news.naver.com/mnews/article/003/0012247129?sid=101\n",
      " https://n.news.naver.com/mnews/article/021/0002608641?sid=101\n",
      "인천공항공사, 사회복지공동모금회에 지역 사회공헌 성금 11억 원 전달 https://n.news.naver.com/mnews/article/021/0002608641?sid=101\n",
      "인요한 혁신위 사실상 멈춰섰다…\"지도부 반응 없어, 조기해체 거론\" https://n.news.naver.com/mnews/article/025/0003325861?sid=100\n",
      "이재명, 연탄 나눔 봉사...\"에너지 취약계층 고통 최소화 노력\" https://n.news.naver.com/mnews/article/052/0001968119?sid=100\n",
      "대구 군부대 이전 당정협 열려…주호영 \"조속한 MOU 체결 이뤄져야\" https://n.news.naver.com/mnews/article/088/0000849516?sid=100\n",
      "네타냐후 \"전쟁 계속\"…하마스도 로켓 공격 https://n.news.naver.com/mnews/article/215/0001137298?sid=104\n",
      "이스라엘 전투기 공습에…세계적 물리학자, 가족과 함께 숨져 https://n.news.naver.com/mnews/article/082/0001244774?sid=104\n",
      "韓, 중국 요소 통관 중단에 \"즉각적인 조치해달라\"...`공급망 핫라인` 활성화 합의 https://n.news.naver.com/mnews/article/029/0002841003?sid=101\n",
      "외교부, 중국 요소 통관지연에 “협의 지속…공급망 다각화 지원 논의” https://n.news.naver.com/mnews/article/056/0011614918?sid=100\n",
      "경제6단체 \"대통령 거부권 행사 노란봉투법 폐기해야\" https://n.news.naver.com/mnews/article/014/0005109842?sid=101\n",
      "'내부 폭로' 멈춘 카카오 임원…노조도 '손팻말 시위' 나섰다 https://n.news.naver.com/mnews/article/015/0004921341?sid=105\n",
      "LG유플러스, ‘2년 연속’ 대한민국광고대상 금상 수상 https://n.news.naver.com/mnews/article/016/0002233827?sid=105\n",
      "노동장관, 인천남동공단 방문…중대재해 감축 로드맵 이행 점검 https://n.news.naver.com/mnews/article/001/0014369912?sid=102\n",
      "“의사 신분 이용해 속여” 여에스더, 전직 식약처 직원에 ‘허위 광고’ 고발당해 https://n.news.naver.com/mnews/article/366/0000952321?sid=102\n",
      "전남도, 노인 일자리 대폭 늘려 https://n.news.naver.com/mnews/article/081/0003413405?sid=100\n",
      "“겨울철 손쓸 수 없는 이 질환”  부작용없는 먹는 치료제 나온다 https://n.news.naver.com/mnews/article/016/0002234010?sid=105\n",
      "추위 풀려 내일 더 온화…동쪽 대기 건조[날씨] https://n.news.naver.com/mnews/article/422/0000632666?sid=103\n"
     ]
    }
   ],
   "source": [
    "section_dict = {100:'정치',101:'경제',102:'사회',103:'생활/문화',104:'세계',105:'IT/과학'}\n",
    "print_news_title(101, section_dict[104])"
   ]
  },
  {
   "cell_type": "markdown",
   "id": "323196dc",
   "metadata": {},
   "source": [
    "### 2. Image 다운로드\n",
    "* referer 요청 헤더를 반드시 설정해야 한다."
   ]
  },
  {
   "cell_type": "code",
   "execution_count": 10,
   "id": "e39dce7a",
   "metadata": {},
   "outputs": [],
   "source": [
    "import requests\n",
    "import os"
   ]
  },
  {
   "cell_type": "code",
   "execution_count": 11,
   "id": "c72d6cb1",
   "metadata": {},
   "outputs": [
    {
     "name": "stdout",
     "output_type": "stream",
     "text": [
      "20231023154322_6989bf288cb5217022d3aeaaaa5d6d33_IMAG01_1.jpg\n",
      " writing to 20231023154322_6989bf288cb5217022d3aeaaaa5d6d33_IMAG01_1.jpg(177,592 bytes)\n",
      "20231023154322_6989bf288cb5217022d3aeaaaa5d6d33_IMAG01_2.jpg\n",
      " writing to 20231023154322_6989bf288cb5217022d3aeaaaa5d6d33_IMAG01_2.jpg(145,492 bytes)\n",
      "20231023154322_6989bf288cb5217022d3aeaaaa5d6d33_IMAG01_3.jpg\n",
      " writing to 20231023154322_6989bf288cb5217022d3aeaaaa5d6d33_IMAG01_3.jpg(182,594 bytes)\n"
     ]
    }
   ],
   "source": [
    "req_header = {\n",
    "    'referer':'https://comic.naver.com/webtoon/detail?titleId=721433&no=229&week=tue'\n",
    "}\n",
    "# referer이 있어야 image 파일 출처를 알 수 있음\n",
    "img_urls = [\n",
    "    'https://image-comic.pstatic.net/webtoon/721433/229/20231023154322_6989bf288cb5217022d3aeaaaa5d6d33_IMAG01_1.jpg',\n",
    "    'https://image-comic.pstatic.net/webtoon/721433/229/20231023154322_6989bf288cb5217022d3aeaaaa5d6d33_IMAG01_2.jpg',\n",
    "    'https://image-comic.pstatic.net/webtoon/721433/229/20231023154322_6989bf288cb5217022d3aeaaaa5d6d33_IMAG01_3.jpg'\n",
    "]\n",
    "for img_url in img_urls:\n",
    "    res = requests.get(img_url, headers=req_header)\n",
    "    if res.ok: #200\n",
    "        # content 속성은 binary data\n",
    "        img_data = res.content\n",
    "        # url에서 file name을 추출하기\n",
    "        file_name = os.path.basename(img_url)\n",
    "        print(file_name)\n",
    "        # binary data를 file로 저장하기\n",
    "        with open(file_name, 'wb') as file:\n",
    "            print(f' writing to {file_name}({len(img_data):,} bytes)')\n",
    "            file.write(img_data)"
   ]
  },
  {
   "cell_type": "markdown",
   "id": "e8b00a04",
   "metadata": {},
   "source": [
    "#### 현재 요청된 페이지의 image 모두 다운로드 해보기"
   ]
  },
  {
   "cell_type": "code",
   "execution_count": 12,
   "id": "b30f7bf5",
   "metadata": {
    "scrolled": true
   },
   "outputs": [
    {
     "name": "stdout",
     "output_type": "stream",
     "text": [
      "52\n",
      "52\n",
      "img/20231023154322_6989bf288cb5217022d3aeaaaa5d6d33_IMAG01_1.jpg\n",
      "img/20231023154322_6989bf288cb5217022d3aeaaaa5d6d33_IMAG01_2.jpg\n",
      "img/20231023154322_6989bf288cb5217022d3aeaaaa5d6d33_IMAG01_3.jpg\n",
      "img/20231023154322_6989bf288cb5217022d3aeaaaa5d6d33_IMAG01_4.jpg\n",
      "img/20231023154322_6989bf288cb5217022d3aeaaaa5d6d33_IMAG01_5.jpg\n",
      "img/20231023154322_6989bf288cb5217022d3aeaaaa5d6d33_IMAG01_6.jpg\n",
      "img/20231023154322_6989bf288cb5217022d3aeaaaa5d6d33_IMAG01_7.jpg\n",
      "img/20231023154322_6989bf288cb5217022d3aeaaaa5d6d33_IMAG01_8.jpg\n",
      "img/20231023154322_6989bf288cb5217022d3aeaaaa5d6d33_IMAG01_9.jpg\n",
      "img/20231023154322_6989bf288cb5217022d3aeaaaa5d6d33_IMAG01_10.jpg\n",
      "img/20231023154322_6989bf288cb5217022d3aeaaaa5d6d33_IMAG01_11.jpg\n",
      "img/20231023154322_6989bf288cb5217022d3aeaaaa5d6d33_IMAG01_12.jpg\n",
      "img/20231023154322_6989bf288cb5217022d3aeaaaa5d6d33_IMAG01_13.jpg\n",
      "img/20231023154322_6989bf288cb5217022d3aeaaaa5d6d33_IMAG01_14.jpg\n",
      "img/20231023154322_6989bf288cb5217022d3aeaaaa5d6d33_IMAG01_15.jpg\n",
      "img/20231023154322_6989bf288cb5217022d3aeaaaa5d6d33_IMAG01_16.jpg\n",
      "img/20231023154322_6989bf288cb5217022d3aeaaaa5d6d33_IMAG01_17.jpg\n",
      "img/20231023154322_6989bf288cb5217022d3aeaaaa5d6d33_IMAG01_18.jpg\n",
      "img/20231023154322_6989bf288cb5217022d3aeaaaa5d6d33_IMAG01_19.jpg\n",
      "img/20231023154322_6989bf288cb5217022d3aeaaaa5d6d33_IMAG01_20.jpg\n",
      "img/20231023154322_6989bf288cb5217022d3aeaaaa5d6d33_IMAG01_21.jpg\n",
      "img/20231023154322_6989bf288cb5217022d3aeaaaa5d6d33_IMAG01_22.jpg\n",
      "img/20231023154322_6989bf288cb5217022d3aeaaaa5d6d33_IMAG01_23.jpg\n",
      "img/20231023154322_6989bf288cb5217022d3aeaaaa5d6d33_IMAG01_24.jpg\n",
      "img/20231023154322_6989bf288cb5217022d3aeaaaa5d6d33_IMAG01_25.jpg\n",
      "img/20231023154322_6989bf288cb5217022d3aeaaaa5d6d33_IMAG01_26.jpg\n",
      "img/20231023154322_6989bf288cb5217022d3aeaaaa5d6d33_IMAG01_27.jpg\n",
      "img/20231023154322_6989bf288cb5217022d3aeaaaa5d6d33_IMAG01_28.jpg\n",
      "img/20231023154322_6989bf288cb5217022d3aeaaaa5d6d33_IMAG01_29.jpg\n",
      "img/20231023154322_6989bf288cb5217022d3aeaaaa5d6d33_IMAG01_30.jpg\n",
      "img/20231023154322_6989bf288cb5217022d3aeaaaa5d6d33_IMAG01_31.jpg\n",
      "img/20231023154322_6989bf288cb5217022d3aeaaaa5d6d33_IMAG01_32.jpg\n",
      "img/20231023154322_6989bf288cb5217022d3aeaaaa5d6d33_IMAG01_33.jpg\n",
      "img/20231023154322_6989bf288cb5217022d3aeaaaa5d6d33_IMAG01_34.jpg\n",
      "img/20231023154322_6989bf288cb5217022d3aeaaaa5d6d33_IMAG01_35.jpg\n",
      "img/20231023154322_6989bf288cb5217022d3aeaaaa5d6d33_IMAG01_36.jpg\n",
      "img/20231023154322_6989bf288cb5217022d3aeaaaa5d6d33_IMAG01_37.jpg\n",
      "img/20231023154322_6989bf288cb5217022d3aeaaaa5d6d33_IMAG01_38.jpg\n",
      "img/20231023154322_6989bf288cb5217022d3aeaaaa5d6d33_IMAG01_39.jpg\n",
      "img/20231023154322_6989bf288cb5217022d3aeaaaa5d6d33_IMAG01_40.jpg\n",
      "img/20231023154322_6989bf288cb5217022d3aeaaaa5d6d33_IMAG01_41.jpg\n",
      "img/20231023154322_6989bf288cb5217022d3aeaaaa5d6d33_IMAG01_42.jpg\n",
      "img/20231023154322_6989bf288cb5217022d3aeaaaa5d6d33_IMAG01_43.jpg\n",
      "img/20231023154322_6989bf288cb5217022d3aeaaaa5d6d33_IMAG01_44.jpg\n",
      "img/20231023154322_6989bf288cb5217022d3aeaaaa5d6d33_IMAG01_45.jpg\n",
      "img/20231023154322_6989bf288cb5217022d3aeaaaa5d6d33_IMAG01_46.jpg\n",
      "img/20231023154322_6989bf288cb5217022d3aeaaaa5d6d33_IMAG01_47.jpg\n",
      "img/20231023154322_6989bf288cb5217022d3aeaaaa5d6d33_IMAG01_48.jpg\n",
      "img/20231023154322_6989bf288cb5217022d3aeaaaa5d6d33_IMAG01_49.jpg\n",
      "img/20231023154322_6989bf288cb5217022d3aeaaaa5d6d33_IMAG01_50.jpg\n",
      "img/20231023154322_6989bf288cb5217022d3aeaaaa5d6d33_IMAG01_51.jpg\n",
      "img/20231023154322_6989bf288cb5217022d3aeaaaa5d6d33_IMAG01_52.jpg\n"
     ]
    }
   ],
   "source": [
    "import requests\n",
    "import os\n",
    "\n",
    "url = 'https://comic.naver.com/webtoon/detail?titleId=721433&no=229&week=tue'\n",
    "req_header = {\n",
    "    'referer' : url\n",
    "}\n",
    "res = requests.get(url)\n",
    "if res.ok:\n",
    "    soup = BeautifulSoup(res.text, 'html.parser')\n",
    "    print(len(soup.select(\"img[src*='IMAG01']\")))\n",
    "    print(len(soup.select(\"div#sectionContWide img[src$='.jpg']\")))\n",
    "    img_tags = soup.select(\"img[src*='IMAG01']\")\n",
    "    # print(type(img_tags)) <class 'bs4.element.ResultSet'>\n",
    "    img_url_list = []\n",
    "    for img_tag in img_tags:\n",
    "        img_url_list.append(img_tag['src'])\n",
    "    #print(img_url_list)\n",
    "\n",
    "    #img 폴더가 없다면 생성\n",
    "    if not os.path.isdir('img'):\n",
    "        os.mkdir('img')\n",
    "        \n",
    "    for img_url in img_url_list:\n",
    "        res = requests.get(img_url, headers=req_header)\n",
    "        if res.ok:\n",
    "            img_data = res.content\n",
    "            file_name = os.path.basename(img_url)\n",
    "            dir_name = os.path.join('img',file_name)\n",
    "            print(dir_name)\n",
    "            with open(dir_name, 'wb') as file:\n",
    "                file.write(img_data)\n",
    "        else:\n",
    "            print(f'Binary Data 가져올 때 Error 발생 에러코드 = {res.status_code}')            \n",
    "else:\n",
    "    print(f'Error 발생 에러코드 = {res.status_code}')"
   ]
  },
  {
   "cell_type": "markdown",
   "id": "d370fe87",
   "metadata": {},
   "source": [
    "### image 다운로드 함수 선언하기\n",
    "* os.mkdir vs ok.makedirs 함수 비교\n",
    "- os.mkdir은 폴더를 1개만 생성이 가능\n",
    "- os.makedirs 'a/b/c' 하위 디렉토리를 여러개 생성 가능\u001bㅠ"
   ]
  },
  {
   "cell_type": "code",
   "execution_count": 13,
   "id": "06e9645e",
   "metadata": {},
   "outputs": [],
   "source": [
    "def download_image(title,url):\n",
    "    import requests\n",
    "    from bs4 import BeautifulSoup\n",
    "    import os\n",
    "    \n",
    "    req_header = {\n",
    "        'referer': url\n",
    "    }\n",
    "    \n",
    "    res = requests.get(url)\n",
    "    print(res.ok)\n",
    "    if res.ok:\n",
    "        soup = BeautifulSoup(res.text, 'html.parser')\n",
    "        \n",
    "        imgurl_list = []\n",
    "        print(len(soup.select('img[src*=\"IMAG01\"]')))\n",
    "        for img_tag in soup.select('img[src*=\"IMAG01\"]'):\n",
    "            imgurl_list.append(img_tag['src'])\n",
    "            #print(img_tag)\n",
    "                \n",
    "        #image를 저장할 디렉토리 생성\n",
    "        \n",
    "        #dir_name = 'img/' + title\n",
    "        dir_name = os.path.join('img',title)\n",
    "        print(dir_name)\n",
    "        if not os.path.isdir(dir_name):\n",
    "            os.makedirs(dir_name)\n",
    "        \n",
    "        #enumerate → index, 원소\n",
    "        for idx,img_url in enumerate(imgurl_list[0:2],1):\n",
    "            print(idx, img_url)\n",
    "            res = requests.get(img_url,headers=req_header)\n",
    "            #print(res.status_code)\n",
    "            if res.ok:\n",
    "                img_data = res.content\n",
    "                #print(len(img_data))\n",
    "                file_name = os.path.basename(img_url)\n",
    "                #print(file_name)\n",
    "                save_name = os.path.join(dir_name, file_name) #dir_name + '/' + file_name\n",
    "                with open(save_name,'wb') as file:\n",
    "                    print(f'{file_name} (파일크기 : {len(img_data)}))')\n",
    "                    file.write(img_data)"
   ]
  },
  {
   "cell_type": "code",
   "execution_count": 14,
   "id": "04a095ce",
   "metadata": {},
   "outputs": [
    {
     "name": "stdout",
     "output_type": "stream",
     "text": [
      "True\n",
      "13\n",
      "img/독립일기\n",
      "1 https://image-comic.pstatic.net/webtoon/748105/2/20200617164815_a69974d2a9ccceb2b3cc6bba19be5664_IMAG01_1.jpg\n",
      "20200617164815_a69974d2a9ccceb2b3cc6bba19be5664_IMAG01_1.jpg (파일크기 : 155383))\n",
      "2 https://image-comic.pstatic.net/webtoon/748105/2/20200617164815_a69974d2a9ccceb2b3cc6bba19be5664_IMAG01_2.jpg\n",
      "20200617164815_a69974d2a9ccceb2b3cc6bba19be5664_IMAG01_2.jpg (파일크기 : 88183))\n"
     ]
    }
   ],
   "source": [
    "download_image('독립일기','https://comic.naver.com/webtoon/detail?titleId=748105&no=2&week=finish')"
   ]
  },
  {
   "cell_type": "markdown",
   "id": "2ac9f5f9",
   "metadata": {},
   "source": [
    "### 파일 업로드 하기\n",
    "* http://httpbin.org/post 업로드 요청을 할 수 있는 url"
   ]
  },
  {
   "cell_type": "code",
   "execution_count": 15,
   "id": "37cebf14",
   "metadata": {},
   "outputs": [
    {
     "ename": "FileNotFoundError",
     "evalue": "[Errno 2] No such file or directory: 'img/f1.jpg'",
     "output_type": "error",
     "traceback": [
      "\u001b[0;31m---------------------------------------------------------------------------\u001b[0m",
      "\u001b[0;31mFileNotFoundError\u001b[0m                         Traceback (most recent call last)",
      "\u001b[0;32m/var/folders/wb/rgthgk_x7m94c9r262657f6c0000gn/T/ipykernel_25463/2248441485.py\u001b[0m in \u001b[0;36m<module>\u001b[0;34m\u001b[0m\n\u001b[1;32m      2\u001b[0m \u001b[0;34m\u001b[0m\u001b[0m\n\u001b[1;32m      3\u001b[0m upload_files_dict = {\n\u001b[0;32m----> 4\u001b[0;31m     \u001b[0;34m'img1'\u001b[0m\u001b[0;34m:\u001b[0m \u001b[0mopen\u001b[0m\u001b[0;34m(\u001b[0m\u001b[0;34m'img/f1.jpg'\u001b[0m\u001b[0;34m,\u001b[0m\u001b[0;34m'rb'\u001b[0m\u001b[0;34m)\u001b[0m\u001b[0;34m,\u001b[0m\u001b[0;34m\u001b[0m\u001b[0;34m\u001b[0m\u001b[0m\n\u001b[0m\u001b[1;32m      5\u001b[0m     \u001b[0;34m'img2'\u001b[0m\u001b[0;34m:\u001b[0m \u001b[0mopen\u001b[0m\u001b[0;34m(\u001b[0m\u001b[0;34m'img/f2.jpg'\u001b[0m\u001b[0;34m,\u001b[0m\u001b[0;34m'rb'\u001b[0m\u001b[0;34m)\u001b[0m\u001b[0;34m,\u001b[0m\u001b[0;34m\u001b[0m\u001b[0;34m\u001b[0m\u001b[0m\n\u001b[1;32m      6\u001b[0m }\n",
      "\u001b[0;31mFileNotFoundError\u001b[0m: [Errno 2] No such file or directory: 'img/f1.jpg'"
     ]
    }
   ],
   "source": [
    "import requests\n",
    "\n",
    "upload_files_dict = {\n",
    "    'img1': open('img/f1.jpg','rb'),\n",
    "    'img2': open('img/f2.jpg','rb'),\n",
    "}\n",
    "upload_url = 'http://httpbin.org/post'\n",
    "res = requests.post(upload_url, files=upload_files_dict)\n",
    "print(res.status_code)\n",
    "res.json()['files']['img1']"
   ]
  },
  {
   "cell_type": "markdown",
   "id": "7ad65f12",
   "metadata": {},
   "source": [
    "### 번역 Open API 이용하기\n",
    "* urllib 를 사용한 예제"
   ]
  },
  {
   "cell_type": "code",
   "execution_count": 16,
   "id": "abbb0ebf",
   "metadata": {},
   "outputs": [
    {
     "name": "stdout",
     "output_type": "stream",
     "text": [
      "{\"message\":{\"@type\":\"response\",\"@service\":\"naverservice.nmt.proxy\",\"@version\":\"1.0.0\",\"result\":{\"srcLangType\":\"en\",\"tarLangType\":\"ko\",\"translatedText\":\"어제 나의 모든 문제들은 너무 멀게만 보였다\",\"engineType\":\"N2MT\"}}}\n"
     ]
    }
   ],
   "source": [
    "import os\n",
    "import sys\n",
    "import urllib.request\n",
    "\n",
    "client_id = \"qea6cz9rZ2hGjRz70xxk\" # 개발자센터에서 발급받은 Client ID 값\n",
    "client_secret = \"04FgIwpqkS\" # 개발자센터에서 발급받은 Client Secret 값\n",
    "encText = urllib.parse.quote(\"Yesterday all my troubles seemed so far away\")\n",
    "data = \"source=en&target=ko&text=\" + encText\n",
    "url = \"https://openapi.naver.com/v1/papago/n2mt\"\n",
    "\n",
    "request = urllib.request.Request(url)\n",
    "request.add_header(\"X-Naver-Client-Id\",client_id)\n",
    "request.add_header(\"X-Naver-Client-Secret\",client_secret)\n",
    "\n",
    "response = urllib.request.urlopen(request, data=data.encode(\"utf-8\"))\n",
    "rescode = response.getcode()\n",
    "if(rescode==200):\n",
    "    response_body = response.read()\n",
    "    print(response_body.decode('utf-8'))\n",
    "else:\n",
    "    print(\"Error Code:\" + rescode)"
   ]
  },
  {
   "cell_type": "markdown",
   "id": "b7d984a6",
   "metadata": {},
   "source": [
    "* requests를 사용한 코드로 변경하기\n",
    "* [requests docs](https://requests.readthedocs.io/en/latest/user/quickstart/)"
   ]
  },
  {
   "cell_type": "code",
   "execution_count": 18,
   "id": "727b427b",
   "metadata": {},
   "outputs": [
    {
     "name": "stdout",
     "output_type": "stream",
     "text": [
      "Sending request:\n",
      "POST /v1/papago/n2mt HTTP/1.1\n",
      "User-Agent: python-requests/2.26.0\n",
      "Accept-Encoding: gzip, deflate, br\n",
      "Accept: */*\n",
      "Connection: keep-alive\n",
      "X-Naver-Client-Id: qea6cz9rZ2hGjRz70xxk\n",
      "X-Naver-Client-Secret: 04FgIwpqkS\n",
      "Content-Length: 88\n",
      "Content-Type: application/json\n",
      "\n",
      "{\"source\": \"en\", \"target\": \"ko\", \"text\": \"Yesterday all my troubles seemed so far away\"}\n",
      "\n",
      "200\n",
      "<class 'dict'>\n",
      "<class 'str'>\n",
      "{'message': {'@type': 'response', '@service': 'naverservice.nmt.proxy', '@version': '1.0.0', 'result': {'srcLangType': 'en', 'tarLangType': 'ko', 'translatedText': '어제 나의 모든 문제들은 너무 멀게만 보였다', 'engineType': 'N2MT'}}}\n",
      "어제 나의 모든 문제들은 너무 멀게만 보였다\n"
     ]
    },
    {
     "name": "stderr",
     "output_type": "stream",
     "text": [
      "/Users/haemikim/opt/anaconda3/lib/python3.9/site-packages/urllib3/connectionpool.py:1013: InsecureRequestWarning: Unverified HTTPS request is being made to host 'openapi.naver.com'. Adding certificate verification is strongly advised. See: https://urllib3.readthedocs.io/en/1.26.x/advanced-usage.html#ssl-warnings\n",
      "  warnings.warn(\n"
     ]
    }
   ],
   "source": [
    "from requests import Request, Session\n",
    "\n",
    "client_id = \"qea6cz9rZ2hGjRz70xxk\" # 개발자센터에서 발급받은 Client ID 값\n",
    "client_secret = \"04FgIwpqkS\" # 개발자센터에서 발급받은 Client Secret 값\n",
    "\n",
    "req_header = {\n",
    "    \"X-Naver-Client-Id\":client_id,\n",
    "    \"X-Naver-Client-Secret\":client_secret\n",
    "}\n",
    "trans_text = \"Yesterday all my troubles seemed so far away\"\n",
    "req_param = {\n",
    "    \"source\":\"en\",\n",
    "    \"target\":\"ko\",\n",
    "    \"text\":trans_text\n",
    "}\n",
    "url = \"https://openapi.naver.com/v1/papago/n2mt\"\n",
    "\n",
    "session = Session()\n",
    "request = Request('POST', url, json=req_param, headers=req_header)\n",
    "#prepped = request.prepare()\n",
    "prepped = session.prepare_request(request)\n",
    "\n",
    "print(\"Sending request:\")\n",
    "print(format_prepped_request(prepped, 'utf8'))\n",
    "print()\n",
    "\n",
    "response = session.send(prepped, verify=False)\n",
    "print(response.status_code)\n",
    "if response.ok:\n",
    "    print(type(response.json()))\n",
    "    print(type(response.text))\n",
    "    print(response.json())\n",
    "    result_text = response.json()['message']['result']['translatedText']\n",
    "    print(result_text)"
   ]
  },
  {
   "cell_type": "code",
   "execution_count": 17,
   "id": "eecd245a",
   "metadata": {},
   "outputs": [],
   "source": [
    "def format_prepped_request(prepped, encoding=None):\n",
    "    # prepped has .method, .path_url, .headers and .body attribute to view the request\n",
    "    encoding = encoding or requests.utils.get_encoding_from_headers(prepped.headers)\n",
    "    body = prepped.body.decode(encoding) if encoding else '<binary data>' \n",
    "    headers = '\\n'.join(['{}: {}'.format(*hv) for hv in prepped.headers.items()])\n",
    "    return f\"\"\"\\\n",
    "{prepped.method} {prepped.path_url} HTTP/1.1\n",
    "{headers}\n",
    "\n",
    "{body}\"\"\""
   ]
  },
  {
   "cell_type": "code",
   "execution_count": null,
   "id": "0d77a658",
   "metadata": {},
   "outputs": [],
   "source": []
  }
 ],
 "metadata": {
  "kernelspec": {
   "display_name": "Python 3 (ipykernel)",
   "language": "python",
   "name": "python3"
  },
  "language_info": {
   "codemirror_mode": {
    "name": "ipython",
    "version": 3
   },
   "file_extension": ".py",
   "mimetype": "text/x-python",
   "name": "python",
   "nbconvert_exporter": "python",
   "pygments_lexer": "ipython3",
   "version": "3.9.7"
  }
 },
 "nbformat": 4,
 "nbformat_minor": 5
}
